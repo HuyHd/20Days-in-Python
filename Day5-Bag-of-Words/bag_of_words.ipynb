{
 "cells": [
  {
   "cell_type": "code",
   "execution_count": 50,
   "metadata": {},
   "outputs": [],
   "source": [
    "def bag_of_words():\n",
    "    \"\"\"\n",
    "    This function aims to identify bag of words.\n",
    "    \"\"\"\n",
    "    # Given dataset\n",
    "    corpus = [\"Tôi thích môn Toán\", \"Tôi thích AI\", \"Tôi thích âm nhạc\"]\n",
    "\n",
    "    # Tokenization\n",
    "    tokenized_corpus = [sentence.split() for sentence in corpus]\n",
    "    all_tokens = [token for sentence in tokenized_corpus for token in sentence]\n",
    "\n",
    "    # Identify bag of words and sort them\n",
    "    bow = {token: all_tokens.count(token) for token in set(all_tokens)}\n",
    "    sorted_bow = sorted(bow.keys())\n",
    "\n",
    "    return sorted_bow\n",
    "\n",
    "\n",
    "def vectorization(text):\n",
    "    \"\"\"\n",
    "    This function aims to vectorization text.\n",
    "    \"\"\"\n",
    "    # Tokenization\n",
    "    tokens = text.split()\n",
    "\n",
    "    # Vectorization text\n",
    "    vectorization = [tokens.count(token) for token in bag_of_words()]\n",
    "\n",
    "    return print(f\"- {text}: {vectorization}\\n- Bag-of-Words: {bag_of_words()}\")"
   ]
  },
  {
   "cell_type": "code",
   "execution_count": 51,
   "metadata": {},
   "outputs": [
    {
     "name": "stdout",
     "output_type": "stream",
     "text": [
      "- Tôi thích AI thích Toán: [1, 1, 1, 0, 0, 2, 0]\n",
      "- Bag-of-Words: ['AI', 'Toán', 'Tôi', 'môn', 'nhạc', 'thích', 'âm']\n"
     ]
    }
   ],
   "source": [
    "# Testcases:\n",
    "if __name__ == \"__main__\":\n",
    "    text = \"Tôi thích AI thích Toán\"\n",
    "    result = vectorization(text)"
   ]
  }
 ],
 "metadata": {
  "kernelspec": {
   "display_name": "Python 3",
   "language": "python",
   "name": "python3"
  },
  "language_info": {
   "codemirror_mode": {
    "name": "ipython",
    "version": 3
   },
   "file_extension": ".py",
   "mimetype": "text/x-python",
   "name": "python",
   "nbconvert_exporter": "python",
   "pygments_lexer": "ipython3",
   "version": "3.10.12"
  }
 },
 "nbformat": 4,
 "nbformat_minor": 2
}
