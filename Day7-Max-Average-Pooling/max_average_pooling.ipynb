{
 "cells": [
  {
   "cell_type": "code",
   "execution_count": 32,
   "metadata": {},
   "outputs": [],
   "source": [
    "def max_average_pooling(mat_a, kernel_b):\n",
    "    \"\"\"\n",
    "    This function aims to calculate max pooling & average pooling\n",
    "    \"\"\"\n",
    "    max_pooling = [\n",
    "        [\n",
    "            max(\n",
    "                mat_a[i + m][j + n]\n",
    "                for m in range(len(kernel_b))\n",
    "                for n in range(len(kernel_b[0]))\n",
    "            )\n",
    "            for j in range(0, len(mat_a[0]) - len(kernel_b[0]) + 1, 2)\n",
    "        ]\n",
    "        for i in range(0, len(mat_a) - len(kernel_b) + 1, 2)\n",
    "    ]\n",
    "    average_pooling = [\n",
    "        [\n",
    "            sum(\n",
    "                mat_a[i + m][j + n]\n",
    "                for m in range(len(kernel_b))\n",
    "                for n in range(len(kernel_b[0]))\n",
    "            )\n",
    "            / len(kernel_b) ** 2\n",
    "            for j in range(0, len(mat_a[0]) - len(kernel_b[0]) + 1, 2)\n",
    "        ]\n",
    "        for i in range(0, len(mat_a) - len(kernel_b) + 1, 2)\n",
    "    ]\n",
    "    return max_pooling, average_pooling"
   ]
  },
  {
   "cell_type": "code",
   "execution_count": 33,
   "metadata": {},
   "outputs": [
    {
     "name": "stdout",
     "output_type": "stream",
     "text": [
      "([[4, 4], [3, 2]], [[1.0, 1.5], [1.0, 1.0]])\n"
     ]
    }
   ],
   "source": [
    "# Testcase:\n",
    "if __name__ == \"__main__\":\n",
    "    mat_a = [[0, 0, 0, 4], [0, 4, 0, 2], [0, 1, 0, 2], [0, 3, 0, 2]]\n",
    "    kernel_b = [[1, 1], [1, 1]]\n",
    "    result1 = max_average_pooling(mat_a, kernel_b)\n",
    "    print(result1)"
   ]
  }
 ],
 "metadata": {
  "kernelspec": {
   "display_name": "Python 3",
   "language": "python",
   "name": "python3"
  },
  "language_info": {
   "codemirror_mode": {
    "name": "ipython",
    "version": 3
   },
   "file_extension": ".py",
   "mimetype": "text/x-python",
   "name": "python",
   "nbconvert_exporter": "python",
   "pygments_lexer": "ipython3",
   "version": "3.10.12"
  }
 },
 "nbformat": 4,
 "nbformat_minor": 2
}
