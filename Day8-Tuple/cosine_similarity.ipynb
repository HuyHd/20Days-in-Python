{
 "cells": [
  {
   "cell_type": "code",
   "execution_count": 17,
   "metadata": {},
   "outputs": [],
   "source": [
    "import math\n",
    "\n",
    "\n",
    "def cosine_similarity_cal(vector_a, vector_b):\n",
    "    \"\"\"\n",
    "    This function aims to measure the degree of similarity between two vectors in multidimension space.\n",
    "\n",
    "    Parameters:\n",
    "    - vector_a, vector_b: Two vectors to measure the degree of similarity.\n",
    "\n",
    "    Results:\n",
    "    The degree of similarity between two vectors.\n",
    "    \"\"\"\n",
    "    # measure the degree of similarity between two vectors.\n",
    "    cosine_similarity = dot_product_cal(vector_a, vector_b) / (\n",
    "        norm_vector_cal(vector_a) * norm_vector_cal(vector_b)\n",
    "    )\n",
    "    return cosine_similarity\n",
    "\n",
    "\n",
    "def dot_product_cal(vec_a, vec_b):\n",
    "    \"\"\"\n",
    "    This function aims to calculate dot product of two vectors.\n",
    "    \"\"\"\n",
    "    dot_product = sum(a * b for a, b in zip(vec_a, vec_b))\n",
    "    return dot_product\n",
    "\n",
    "\n",
    "def norm_vector_cal(vector):\n",
    "    \"\"\"\n",
    "    This function aims to calculate lenght of a vector.\n",
    "    \"\"\"\n",
    "    norm = math.sqrt(sum(vector[_] ** 2 for _ in range(len(vector))))\n",
    "    return norm"
   ]
  },
  {
   "cell_type": "code",
   "execution_count": 19,
   "metadata": {},
   "outputs": [
    {
     "name": "stdout",
     "output_type": "stream",
     "text": [
      "0.9778024140774094\n"
     ]
    }
   ],
   "source": [
    "# Testcase:\n",
    "if __name__ == \"__main__\":\n",
    "    vector_1 = [1, 2]\n",
    "    vector_2 = [4, 5]\n",
    "    result = cosine_similarity_cal(vector_1, vector_2)\n",
    "    print(result)"
   ]
  }
 ],
 "metadata": {
  "kernelspec": {
   "display_name": "Python 3",
   "language": "python",
   "name": "python3"
  },
  "language_info": {
   "codemirror_mode": {
    "name": "ipython",
    "version": 3
   },
   "file_extension": ".py",
   "mimetype": "text/x-python",
   "name": "python",
   "nbconvert_exporter": "python",
   "pygments_lexer": "ipython3",
   "version": "3.10.12"
  }
 },
 "nbformat": 4,
 "nbformat_minor": 2
}
