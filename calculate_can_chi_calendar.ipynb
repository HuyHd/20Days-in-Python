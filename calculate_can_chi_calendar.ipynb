{
 "cells": [
  {
   "cell_type": "code",
   "execution_count": 11,
   "metadata": {},
   "outputs": [],
   "source": [
    "def calculate_can_chi_calendar(year):\n",
    "    \"\"\"\n",
    "    This functions aim to calculate Can Chi Calendar for a single year.\n",
    "\n",
    "    Parameters:\n",
    "    year: Number of year to calculate calendar.\n",
    "\n",
    "    Results:\n",
    "    Name of Can Chi calendar.\n",
    "    \"\"\"\n",
    "\n",
    "    # Define variables\n",
    "    result = \"\"\n",
    "    can = \"\"\n",
    "    chi = \"\"\n",
    "\n",
    "    # Calculate index\n",
    "    can_index = year % 10\n",
    "    chi_index = year % 12\n",
    "\n",
    "    # Determine Can with if-elese\n",
    "    if can_index == 0:\n",
    "        can = \"Canh\"\n",
    "    elif can_index == 1:\n",
    "        can = \"Tân\"\n",
    "    elif can_index == 2:\n",
    "        can = \"Nhâm\"\n",
    "    elif can_index == 3:\n",
    "        can = \"Quý\"\n",
    "    elif can_index == 4:\n",
    "        can = \"Giáp\"\n",
    "    elif can_index == 5:\n",
    "        can = \"Ất\"\n",
    "    elif can_index == 6:\n",
    "        can = \"Bính\"\n",
    "    elif can_index == 7:\n",
    "        can = \"Đinh\"\n",
    "    elif can_index == 8:\n",
    "        can = \"Mậu\"\n",
    "    elif can_index == 9:\n",
    "        can = \"Kỷ\"\n",
    "\n",
    "    # Determine Chi with if-else\n",
    "    if chi_index == 0:\n",
    "        chi = \"Thân\"\n",
    "    elif chi_index == 1:\n",
    "        chi = \"Dậu\"\n",
    "    elif chi_index == 2:\n",
    "        chi = \"Tuất\"\n",
    "    elif chi_index == 3:\n",
    "        chi = \"Hợi\"\n",
    "    elif chi_index == 4:\n",
    "        chi = \"Tý\"\n",
    "    elif chi_index == 5:\n",
    "        chi = \"Sửu\"\n",
    "    elif chi_index == 6:\n",
    "        chi = \"Dần\"\n",
    "    elif chi_index == 7:\n",
    "        chi = \"Mão\"\n",
    "    elif chi_index == 8:\n",
    "        chi = \"Thìn\"\n",
    "    elif chi_index == 9:\n",
    "        chi = \"Tỵ\"\n",
    "    elif chi_index == 10:\n",
    "        chi = \"Ngọ\"\n",
    "    elif chi_index == 11:\n",
    "        chi = \"Mùi\"\n",
    "\n",
    "    # Return Can Chi as formatted string\n",
    "    result = f\"{can} {chi}\"\n",
    "    return result"
   ]
  },
  {
   "cell_type": "code",
   "execution_count": 12,
   "metadata": {},
   "outputs": [
    {
     "data": {
      "text/plain": [
       "'Giáp Thìn'"
      ]
     },
     "execution_count": 12,
     "metadata": {},
     "output_type": "execute_result"
    }
   ],
   "source": [
    "# Examples\n",
    "calculate_can_chi_calendar(2024)"
   ]
  },
  {
   "cell_type": "code",
   "execution_count": 13,
   "metadata": {},
   "outputs": [
    {
     "data": {
      "text/plain": [
       "'Quý Mão'"
      ]
     },
     "execution_count": 13,
     "metadata": {},
     "output_type": "execute_result"
    }
   ],
   "source": [
    "calculate_can_chi_calendar(2023)"
   ]
  },
  {
   "cell_type": "code",
   "execution_count": 14,
   "metadata": {},
   "outputs": [
    {
     "data": {
      "text/plain": [
       "'Đinh Sửu'"
      ]
     },
     "execution_count": 14,
     "metadata": {},
     "output_type": "execute_result"
    }
   ],
   "source": [
    "calculate_can_chi_calendar(1997)"
   ]
  }
 ],
 "metadata": {
  "kernelspec": {
   "display_name": "Python 3",
   "language": "python",
   "name": "python3"
  },
  "language_info": {
   "codemirror_mode": {
    "name": "ipython",
    "version": 3
   },
   "file_extension": ".py",
   "mimetype": "text/x-python",
   "name": "python",
   "nbconvert_exporter": "python",
   "pygments_lexer": "ipython3",
   "version": "3.12.4"
  }
 },
 "nbformat": 4,
 "nbformat_minor": 2
}
