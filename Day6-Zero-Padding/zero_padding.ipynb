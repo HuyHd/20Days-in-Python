{
 "cells": [
  {
   "cell_type": "code",
   "execution_count": 17,
   "metadata": {},
   "outputs": [],
   "source": [
    "def zero_padding(matrix, pad):\n",
    "    \"\"\"\n",
    "    This function aims to padding matrix\n",
    "    \"\"\"\n",
    "    padded_matrix = [\n",
    "        [0] * (len(matrix[0]) + 2 * pad) for _ in range(len(matrix) + 2 * pad)\n",
    "    ]\n",
    "    for i in range(len(matrix)):\n",
    "        for j in range(len(matrix[0])):\n",
    "            padded_matrix[i + pad][j + pad] = matrix[i][j]\n",
    "    return padded_matrix\n",
    "\n",
    "\n",
    "def convolution_calculation(mat_a, kernel_b):\n",
    "    \"\"\"\n",
    "    This function aims to calculate convolution\n",
    "    \"\"\"\n",
    "    pad_ = len(kernel_b) // 2\n",
    "    padded_mat = zero_padding(mat_a, pad_)\n",
    "    result = [\n",
    "        [\n",
    "            sum(\n",
    "                padded_mat[i + m][j + n] * kernel_b[m][n]\n",
    "                for m in range(len(kernel_b))\n",
    "                for n in range(len(kernel_b[0]))\n",
    "            )\n",
    "            for j in range(len(padded_mat[0]) - len(kernel_b[0]) + 1)\n",
    "        ]\n",
    "        for i in range(len(padded_mat) - len(kernel_b) + 1)\n",
    "    ]\n",
    "    return result"
   ]
  },
  {
   "cell_type": "code",
   "execution_count": 19,
   "metadata": {},
   "outputs": [
    {
     "name": "stdout",
     "output_type": "stream",
     "text": [
      "[[0, 0, 0, 0], [0, 4, 4, 0], [0, 5, 5, 0], [0, 1, 1, 0]]\n",
      "[[0, 4, 0], [0, 5, 0], [0, 5, 0]]\n"
     ]
    }
   ],
   "source": [
    "# Testcase:\n",
    "if __name__ == \"__main__\":\n",
    "    mat_a = [[0, 0, 0], [0, 4, 0], [0, 1, 0]]\n",
    "    kernel_b = [[1, 1], [1, 1]]\n",
    "    result1 = convolution_calculation(mat_a, kernel_b)\n",
    "    print(result1)\n",
    "    kernel_c = [[0, 1, 0], [0, 1, 0], [0, 1, 0]]\n",
    "    result2 = convolution_calculation(mat_a, kernel_c)\n",
    "    print(result2)"
   ]
  }
 ],
 "metadata": {
  "kernelspec": {
   "display_name": "Python 3",
   "language": "python",
   "name": "python3"
  },
  "language_info": {
   "codemirror_mode": {
    "name": "ipython",
    "version": 3
   },
   "file_extension": ".py",
   "mimetype": "text/x-python",
   "name": "python",
   "nbconvert_exporter": "python",
   "pygments_lexer": "ipython3",
   "version": "3.10.12"
  }
 },
 "nbformat": 4,
 "nbformat_minor": 2
}
