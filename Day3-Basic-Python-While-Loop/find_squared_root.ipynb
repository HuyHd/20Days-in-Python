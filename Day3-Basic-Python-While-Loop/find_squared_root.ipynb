{
 "cells": [
  {
   "cell_type": "code",
   "execution_count": 77,
   "metadata": {},
   "outputs": [],
   "source": [
    "def find_squared_root(a):\n",
    "    \"\"\"Find the squared root of number a\"\"\"\n",
    "    EPSILON = 0.001\n",
    "\n",
    "    # Check input variables\n",
    "    try:\n",
    "        float(a)\n",
    "    except ValueError:\n",
    "        print(\"Enter a number.\")\n",
    "        return False\n",
    "\n",
    "    x_n = float(a)\n",
    "    # n = 0\n",
    "\n",
    "    if x_n == 0:\n",
    "        return 0\n",
    "    elif x_n < 0:\n",
    "        print(\"The number that must be greater than 0.\")\n",
    "        return False\n",
    "    else:\n",
    "        while True:\n",
    "            # Newton-Raphson Fomular\n",
    "            x_n1 = 0.5 * (x_n + float(a) / x_n)\n",
    "            # Approximate improvement\n",
    "            if abs(x_n1 - x_n) < EPSILON:\n",
    "                return x_n1\n",
    "            x_n = x_n1\n",
    "            # n += 1"
   ]
  },
  {
   "cell_type": "code",
   "execution_count": 78,
   "metadata": {},
   "outputs": [
    {
     "name": "stdout",
     "output_type": "stream",
     "text": [
      "All test cases passed.\n",
      "1.4142135623746899\n"
     ]
    }
   ],
   "source": [
    "# Testcases:\n",
    "if __name__ == \"__main__\":\n",
    "    assert find_squared_root(2) == 1.4142135623746899, \"Test case 1 failed\"\n",
    "    assert find_squared_root(3) == 1.7320508100147274, \"Test case 2 failed\"\n",
    "    print(\"All test cases passed.\")\n",
    "    a = input(\"Enter the number to find the square root: \")\n",
    "    print(find_squared_root(a))"
   ]
  }
 ],
 "metadata": {
  "kernelspec": {
   "display_name": "Python 3",
   "language": "python",
   "name": "python3"
  },
  "language_info": {
   "codemirror_mode": {
    "name": "ipython",
    "version": 3
   },
   "file_extension": ".py",
   "mimetype": "text/x-python",
   "name": "python",
   "nbconvert_exporter": "python",
   "pygments_lexer": "ipython3",
   "version": "3.12.4"
  }
 },
 "nbformat": 4,
 "nbformat_minor": 2
}
