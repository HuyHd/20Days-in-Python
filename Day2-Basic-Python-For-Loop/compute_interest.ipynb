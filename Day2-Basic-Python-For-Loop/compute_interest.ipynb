{
 "cells": [
  {
   "cell_type": "code",
   "execution_count": 1,
   "metadata": {},
   "outputs": [],
   "source": [
    "def compute_interest(money, period):\n",
    "    '''\n",
    "    This function aim to compute interest on bank deposits.\n",
    "\n",
    "    Parameters:\n",
    "    -money: Number of amount.\n",
    "    -period: Number of period.\n",
    "\n",
    "    Returns:\n",
    "    Amount of interest received.\n",
    "    '''\n",
    "    # Check input variables\n",
    "    if is_number(money) and is_number(period):\n",
    "        money = int(money)\n",
    "        period = int(period)\n",
    "    else:\n",
    "        print('amount and period must be a number.')\n",
    "        return\n",
    "\n",
    "    # Compute interest\n",
    "    result = ''\n",
    "    for _ in range(period):\n",
    "        # result = money*(1+1/period)**period\n",
    "        money *= (1+1/period)\n",
    "    result = money\n",
    "    return result\n",
    "\n",
    "\n",
    "def is_number(n):\n",
    "    '''\n",
    "    This function aim to check input variables.\n",
    "    '''\n",
    "    try:\n",
    "        int(n)\n",
    "    except ValueError:\n",
    "        return False\n",
    "    return True"
   ]
  },
  {
   "cell_type": "code",
   "execution_count": 3,
   "metadata": {},
   "outputs": [
    {
     "name": "stdout",
     "output_type": "stream",
     "text": [
      "All test cases passed.\n",
      "2.7146\n"
     ]
    }
   ],
   "source": [
    "# Testcases:\n",
    "if __name__ == '__main__':\n",
    "    assert round(compute_interest(1, 12), 3) == 2.613, 'Test case 1 failed'\n",
    "    # assert round(compute_interest(1, 365), 4) == 2.714, 'Test case 2 failed'\n",
    "    assert round(compute_interest(1, 730), 3) == 2.716, 'Test case 3 failed'\n",
    "    print('All test cases passed.')\n",
    "    money = input(\"Input number of amount: \")\n",
    "    period = input(\"Input number of period: \")\n",
    "    print(round(compute_interest(money, period), 4))"
   ]
  }
 ],
 "metadata": {
  "kernelspec": {
   "display_name": "Python 3",
   "language": "python",
   "name": "python3"
  },
  "language_info": {
   "codemirror_mode": {
    "name": "ipython",
    "version": 3
   },
   "file_extension": ".py",
   "mimetype": "text/x-python",
   "name": "python",
   "nbconvert_exporter": "python",
   "pygments_lexer": "ipython3",
   "version": "3.12.4"
  }
 },
 "nbformat": 4,
 "nbformat_minor": 2
}
