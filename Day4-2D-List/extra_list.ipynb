{
 "cells": [
  {
   "cell_type": "code",
   "execution_count": 17,
   "metadata": {},
   "outputs": [
    {
     "name": "stdout",
     "output_type": "stream",
     "text": [
      "[1, 2, 3, 4, 5]\n",
      "[1, 3, 5, 7, 9]\n",
      "55\n"
     ]
    }
   ],
   "source": [
    "# Section 1 - List Creation and Accessing\n",
    "lst_data = list(range(1, 11))\n",
    "print([lst_data[_] for _ in range(5)])\n",
    "print([lst_data[_] for _ in range(len(lst_data)) if _ % 2 == 0])\n",
    "print(sum((lst_data[_] for _ in range(len(lst_data)))))"
   ]
  },
  {
   "cell_type": "code",
   "execution_count": 72,
   "metadata": {},
   "outputs": [
    {
     "name": "stdout",
     "output_type": "stream",
     "text": [
      "[2, 4, 6, 8, 10, 12]\n"
     ]
    }
   ],
   "source": [
    "# Section 2 - List CRUD\n",
    "lst_data = list(i for i in range(1, 13) if i % 2 == 0)\n",
    "print(lst_data)"
   ]
  },
  {
   "cell_type": "code",
   "execution_count": 73,
   "metadata": {},
   "outputs": [
    {
     "name": "stdout",
     "output_type": "stream",
     "text": [
      "[2, 4, 8, 10]\n"
     ]
    }
   ],
   "source": [
    "idx = [i for i in range(len(lst_data)) if lst_data[i] % 3 == 0]\n",
    "[lst_data.pop(j) for j in reversed(idx)]\n",
    "print(lst_data)"
   ]
  },
  {
   "cell_type": "code",
   "execution_count": 74,
   "metadata": {},
   "outputs": [
    {
     "name": "stdout",
     "output_type": "stream",
     "text": [
      "[2, 4, 8, 6, 7, 8, 10, 1, 2, 3]\n"
     ]
    }
   ],
   "source": [
    "lst_data.extend([1, 2, 3])\n",
    "[lst_data.insert(3 + i, _) for i, _ in enumerate([6, 7, 8])]\n",
    "print(lst_data)"
   ]
  },
  {
   "cell_type": "code",
   "execution_count": 75,
   "metadata": {},
   "outputs": [
    {
     "name": "stdout",
     "output_type": "stream",
     "text": [
      "[0, 0, 0, 0, 7, 0, 0, 1, 0, 3]\n"
     ]
    }
   ],
   "source": [
    "lst_data = [\n",
    "    0 if (lst_data[_] % 2 == 0 or lst_data[_] % 5 == 0) else lst_data[_]\n",
    "    for _ in range(len(lst_data))\n",
    "]\n",
    "print(lst_data)"
   ]
  },
  {
   "cell_type": "code",
   "execution_count": 78,
   "metadata": {},
   "outputs": [
    {
     "name": "stdout",
     "output_type": "stream",
     "text": [
      "[153, 407, 371, 1634, 370]\n"
     ]
    }
   ],
   "source": [
    "# Section 3 - List and Branching\n",
    "def is_armstrong_number(number):\n",
    "    num_digits = len(str(number))\n",
    "    sum_digits = sum(int(digits) ** num_digits for digits in str(number))\n",
    "    if sum_digits == number:\n",
    "        return True\n",
    "    else:\n",
    "        return False\n",
    "\n",
    "\n",
    "if __name__ == \"__main__\":\n",
    "    test_case_1 = [130, 270, 153, 407, 177, 371, 1000, 1634, 370]\n",
    "    result = [\n",
    "        test_case_1[_]\n",
    "        for _ in range(len(test_case_1))\n",
    "        if is_armstrong_number(test_case_1[_])\n",
    "    ]\n",
    "    print(result)"
   ]
  },
  {
   "cell_type": "code",
   "execution_count": 86,
   "metadata": {},
   "outputs": [
    {
     "name": "stdout",
     "output_type": "stream",
     "text": [
      "[True, True, True, False, True]\n",
      "[True, False, False, False, False]\n",
      "[True, False, True]\n"
     ]
    }
   ],
   "source": [
    "# Section 4 - List and Branching\n",
    "def is_max_candies(candies, extraCandies):\n",
    "    return [candy + extraCandies >= max(candies) for candy in candies]\n",
    "\n",
    "\n",
    "if __name__ == \"__main__\":\n",
    "    test_case_1 = [2, 3, 5, 1, 3]\n",
    "    extraCandies1 = 3\n",
    "    print(is_max_candies(test_case_1, extraCandies1))\n",
    "    test_case_2 = [4, 2, 1, 1, 2]\n",
    "    extraCandies2 = 1\n",
    "    print(is_max_candies(test_case_2, extraCandies2))\n",
    "    test_case_3 = [12, 1, 12]\n",
    "    extraCandies3 = 10\n",
    "    print(is_max_candies(test_case_3, extraCandies3))"
   ]
  },
  {
   "cell_type": "code",
   "execution_count": 97,
   "metadata": {},
   "outputs": [
    {
     "name": "stdout",
     "output_type": "stream",
     "text": [
      "[1, 2, 3, 4, 5, 6, 7, 8, 9, 10]\n",
      "Median:  5.5\n",
      "[9, 7, 5, 3, 1]\n"
     ]
    }
   ],
   "source": [
    "# Section 5 - Computing median for a list of number\n",
    "lst_data = list(range(1, 11))\n",
    "print(lst_data)\n",
    "sorted_lst = sorted(lst_data)\n",
    "n = len(sorted_lst)\n",
    "\n",
    "if n % 2 != 0:\n",
    "    median = sorted_lst[(n + 1) // 2]\n",
    "else:\n",
    "    median = (sorted_lst[n // 2] + sorted_lst[n // 2 - 1]) / 2\n",
    "print(\"Median: \", median)\n",
    "\n",
    "lst_odd_filter = sorted([_ for _ in lst_data if _ % 2 != 0], reverse=True)\n",
    "print(lst_odd_filter)"
   ]
  },
  {
   "cell_type": "code",
   "execution_count": 105,
   "metadata": {},
   "outputs": [
    {
     "name": "stdout",
     "output_type": "stream",
     "text": [
      "[1, 2, 3, 4, 5, 6, 7, 8, 9, 10]\n",
      "Mean le: 5.0 - Mean chan: 6.0\n",
      "Mean = Median =  5.5\n"
     ]
    }
   ],
   "source": [
    "# Section 6 - Computing mean for a list of number\n",
    "lst_data = list(range(1, 11))\n",
    "print(lst_data)\n",
    "\n",
    "sorted_lst = sorted(lst_data)\n",
    "n = len(sorted_lst)\n",
    "\n",
    "odd_lst = [_ for _ in lst_data if _ % 2 != 0]\n",
    "even_lst = [_ for _ in lst_data if _ % 2 == 0]\n",
    "mean = sum(sorted_lst) / n\n",
    "mean_odd = sum(odd_lst) / len(odd_lst)\n",
    "mean_even = sum(even_lst) / len(even_lst)\n",
    "print(f\"Mean le: {mean_odd} - Mean chan: {mean_even}\")\n",
    "\n",
    "if n % 2 != 0:\n",
    "    median = sorted_lst[(n + 1) // 2]\n",
    "else:\n",
    "    median = (sorted_lst[n // 2] + sorted_lst[n // 2 - 1]) / 2\n",
    "\n",
    "if median == mean:\n",
    "    print(\"Mean = Median = \", median)\n",
    "else:\n",
    "    print(f\"Mean = {mean}, Median = {median}\")"
   ]
  },
  {
   "cell_type": "code",
   "execution_count": null,
   "metadata": {},
   "outputs": [],
   "source": [
    "# Section 7 - Bag of Words (NLP)\n",
    "# Completed in day 5 homeworks"
   ]
  },
  {
   "cell_type": "code",
   "execution_count": 108,
   "metadata": {},
   "outputs": [
    {
     "name": "stdout",
     "output_type": "stream",
     "text": [
      "2\n"
     ]
    }
   ],
   "source": [
    "# Section 8 - Algorithms on List\n",
    "lst_data = [1, 1.1, None, 1.4, None, 1.5, None, 2.0]\n",
    "positions = next(idx for idx, values in enumerate(lst_data) if values == None)\n",
    "print(positions)"
   ]
  },
  {
   "cell_type": "code",
   "execution_count": 109,
   "metadata": {},
   "outputs": [
    {
     "name": "stdout",
     "output_type": "stream",
     "text": [
      "[2, 4, 6]\n"
     ]
    }
   ],
   "source": [
    "lst_data = [1, 1.1, None, 1.4, None, 1.5, None, 2.0]\n",
    "positions = [idx for idx, values in enumerate(lst_data) if values == None]\n",
    "print(positions)"
   ]
  },
  {
   "cell_type": "code",
   "execution_count": 3,
   "metadata": {},
   "outputs": [
    {
     "name": "stdout",
     "output_type": "stream",
     "text": [
      "[1, 1.1, 1.1, 1.4, 1.4, 1.5, 1.5, 2.0]\n"
     ]
    }
   ],
   "source": [
    "# Section 9 - Interpolation for List (Time-series)\n",
    "lst_data = [1, 1.1, None, 1.4, None, 1.5, None, 2.0]\n",
    "near_val = None\n",
    "result = []\n",
    "for val in lst_data:\n",
    "    if val is not None:\n",
    "        near_val = val\n",
    "    result.append(near_val)\n",
    "print(result)"
   ]
  },
  {
   "cell_type": "code",
   "execution_count": 2,
   "metadata": {},
   "outputs": [
    {
     "name": "stdout",
     "output_type": "stream",
     "text": [
      "[[1, 3], [4, 6], [7, 9]]\n"
     ]
    }
   ],
   "source": [
    "# Section 10 - 2D List\n",
    "lst_data = [[1, 2, 3], [4, 5, 6], [7, 8, 9]]\n",
    "lst_sub_data = [[row[0], row[2]] for row in lst_data]\n",
    "print(lst_sub_data)"
   ]
  },
  {
   "cell_type": "code",
   "execution_count": 10,
   "metadata": {},
   "outputs": [
    {
     "name": "stdout",
     "output_type": "stream",
     "text": [
      "Tong: [[3, 6, 9], [5, 8, 11], [8, 8, 10]]\n",
      "Hieu: [[-1, -2, -3], [3, 2, 1], [6, 8, 8]]\n",
      "Dot Product: [[7, 10, 19], [19, 31, 55], [31, 52, 91]]\n"
     ]
    }
   ],
   "source": [
    "# Section 11 - Matrix representation using List\n",
    "math_a = [[1, 2, 3], [4, 5, 6], [7, 8, 9]]\n",
    "math_b = [[2, 4, 6], [1, 3, 5], [1, 0, 1]]\n",
    "sum_ab = [\n",
    "    [math_a[i][j] + math_b[i][j] for j in range(len(math_a[0]))]\n",
    "    for i in range(len(math_a))\n",
    "]\n",
    "subtract_ab = [\n",
    "    [math_a[i][j] - math_b[i][j] for j in range(len(math_a[0]))]\n",
    "    for i in range(len(math_a))\n",
    "]\n",
    "dot_product = [\n",
    "    [\n",
    "        sum(math_a[i][k] * math_b[k][j] for k in range(len(math_b)))\n",
    "        for j in range(len(math_b[0]))\n",
    "    ]\n",
    "    for i in range(len(math_a))\n",
    "]\n",
    "\n",
    "print(f\"Tong: {sum_ab}\\nHieu: {subtract_ab}\\nDot Product: {dot_product}\")"
   ]
  },
  {
   "cell_type": "code",
   "execution_count": 12,
   "metadata": {},
   "outputs": [
    {
     "name": "stdout",
     "output_type": "stream",
     "text": [
      "AI listen music\n"
     ]
    }
   ],
   "source": [
    "# Section 12 - List Comprehension\n",
    "stop_word = [\"I\", \"love\", \"and\", \"to\"]\n",
    "input = \"I love AI and listen to music\"\n",
    "filtered_sentence = \" \".join(_ for _ in input.split() if _ not in stop_word)\n",
    "print(filtered_sentence)"
   ]
  },
  {
   "cell_type": "code",
   "execution_count": 7,
   "metadata": {},
   "outputs": [
    {
     "name": "stdout",
     "output_type": "stream",
     "text": [
      "(5, 9) 24 3.1622776601683795 1\n"
     ]
    }
   ],
   "source": [
    "# Section 13 - List and Tuple\n",
    "import math\n",
    "\n",
    "my_tuple1 = (2, 3)\n",
    "my_tuple2 = (3, 6)\n",
    "vector_sum = tuple(a + b for a, b in zip(my_tuple1, my_tuple2))\n",
    "dot_product = sum(a * b for a, b in zip(my_tuple1, my_tuple2))\n",
    "distance = math.sqrt(sum((a - b) ** 2 for a, b in zip(my_tuple1, my_tuple2)))\n",
    "index = my_tuple1.index(3)\n",
    "print(vector_sum, dot_product, distance, index)"
   ]
  }
 ],
 "metadata": {
  "kernelspec": {
   "display_name": "Python 3",
   "language": "python",
   "name": "python3"
  },
  "language_info": {
   "codemirror_mode": {
    "name": "ipython",
    "version": 3
   },
   "file_extension": ".py",
   "mimetype": "text/x-python",
   "name": "python",
   "nbconvert_exporter": "python",
   "pygments_lexer": "ipython3",
   "version": "3.10.12"
  }
 },
 "nbformat": 4,
 "nbformat_minor": 2
}
