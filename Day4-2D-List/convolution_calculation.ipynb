{
 "cells": [
  {
   "cell_type": "code",
   "execution_count": 21,
   "metadata": {},
   "outputs": [],
   "source": [
    "def convolution_calculation(math_a, kernel_b):\n",
    "    \"\"\"\n",
    "    This function aims to calculate Convolution.\n",
    "    \"\"\"\n",
    "    # result=[]\n",
    "    # result_r = len(math_a) - len(kernel_b)\n",
    "    # result_c = len(math_a[0]) - len(kernel_b[0])\n",
    "    # for a in range(result_r + 1):\n",
    "    #     for b in range(result_c + 1):\n",
    "    #         print(result[result_r][result_c], end='')\n",
    "\n",
    "    # result = [\n",
    "    #     [0 for _ in range(len(math_a) - len(kernel_b) + 1)]\n",
    "    #     for _ in range(len(math_a[0]) - len(kernel_b[0]) + 1)\n",
    "    # ]\n",
    "\n",
    "    # for i in range(len(math_a) - len(kernel_b) + 1):\n",
    "    #     for j in range(len(math_a[0]) - len(kernel_b[0]) + 1):\n",
    "    #         sum = 0\n",
    "    #         for m in range(len(kernel_b)):\n",
    "    #             for n in range(len(kernel_b[0])):\n",
    "    #                 sum += math_a[i + m][j + n] * kernel_b[m][n]\n",
    "    #         result[i][j] = sum\n",
    "    # return result\n",
    "\n",
    "    result = [\n",
    "        [\n",
    "            sum(\n",
    "                math_a[i + m][j + n] * kernel_b[m][n]\n",
    "                for m in range(len(kernel_b))\n",
    "                for n in range(len(kernel_b[0]))\n",
    "            )\n",
    "            for j in range(len(math_a[0]) - len(kernel_b[0]) + 1)\n",
    "        ]\n",
    "        for i in range(len(math_a) - len(kernel_b) + 1)\n",
    "    ]\n",
    "    return result"
   ]
  },
  {
   "cell_type": "code",
   "execution_count": 24,
   "metadata": {},
   "outputs": [
    {
     "name": "stdout",
     "output_type": "stream",
     "text": [
      "[[29, 39], [59, 69]]\n"
     ]
    }
   ],
   "source": [
    "math_a = [[1, 2, 3], [4, 5, 6], [7, 8, 9]]\n",
    "kernel_b = [[2, 4], [1, 3]]\n",
    "output = convolution_calculation(math_a, kernel_b)\n",
    "print(output)"
   ]
  },
  {
   "cell_type": "code",
   "execution_count": 25,
   "metadata": {},
   "outputs": [
    {
     "name": "stdout",
     "output_type": "stream",
     "text": [
      "[[30]]\n"
     ]
    }
   ],
   "source": [
    "math_a = [[1, 2, 3], [4, 5, 6], [7, 8, 9]]\n",
    "kernel_b = [[1, 1, 1], [0, 0, 0], [1, 1, 1]]\n",
    "output = convolution_calculation(math_a, kernel_b)\n",
    "print(output)"
   ]
  }
 ],
 "metadata": {
  "kernelspec": {
   "display_name": "Python 3",
   "language": "python",
   "name": "python3"
  },
  "language_info": {
   "codemirror_mode": {
    "name": "ipython",
    "version": 3
   },
   "file_extension": ".py",
   "mimetype": "text/x-python",
   "name": "python",
   "nbconvert_exporter": "python",
   "pygments_lexer": "ipython3",
   "version": "3.12.4"
  }
 },
 "nbformat": 4,
 "nbformat_minor": 2
}
